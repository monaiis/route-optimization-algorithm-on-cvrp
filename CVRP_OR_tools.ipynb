{
  "nbformat": 4,
  "nbformat_minor": 0,
  "metadata": {
    "colab": {
      "provenance": [],
      "collapsed_sections": [
        "ZHW83jAd-DSQ"
      ]
    },
    "kernelspec": {
      "name": "python3",
      "display_name": "Python 3"
    },
    "language_info": {
      "name": "python"
    }
  },
  "cells": [
    {
      "cell_type": "code",
      "source": [
        "!pip install ortools"
      ],
      "metadata": {
        "colab": {
          "base_uri": "https://localhost:8080/"
        },
        "id": "74sLOfjG-KnA",
        "outputId": "fdadbf30-c488-4553-e746-0492fc51c08c"
      },
      "execution_count": null,
      "outputs": [
        {
          "output_type": "stream",
          "name": "stdout",
          "text": [
            "Looking in indexes: https://pypi.org/simple, https://us-python.pkg.dev/colab-wheels/public/simple/\n",
            "Collecting ortools\n",
            "  Downloading ortools-9.6.2534-cp310-cp310-manylinux_2_17_x86_64.manylinux2014_x86_64.whl (16.4 MB)\n",
            "\u001b[2K     \u001b[90m━━━━━━━━━━━━━━━━━━━━━━━━━━━━━━━━━━━━━━━━\u001b[0m \u001b[32m16.4/16.4 MB\u001b[0m \u001b[31m50.5 MB/s\u001b[0m eta \u001b[36m0:00:00\u001b[0m\n",
            "\u001b[?25hRequirement already satisfied: absl-py>=0.13 in /usr/local/lib/python3.10/dist-packages (from ortools) (1.4.0)\n",
            "Requirement already satisfied: numpy>=1.13.3 in /usr/local/lib/python3.10/dist-packages (from ortools) (1.22.4)\n",
            "Collecting protobuf>=4.21.12 (from ortools)\n",
            "  Downloading protobuf-4.23.0-cp37-abi3-manylinux2014_x86_64.whl (304 kB)\n",
            "\u001b[2K     \u001b[90m━━━━━━━━━━━━━━━━━━━━━━━━━━━━━━━━━━━━━━\u001b[0m \u001b[32m304.5/304.5 kB\u001b[0m \u001b[31m31.8 MB/s\u001b[0m eta \u001b[36m0:00:00\u001b[0m\n",
            "\u001b[?25hRequirement already satisfied: scipy>=1.10.0 in /usr/local/lib/python3.10/dist-packages (from ortools) (1.10.1)\n",
            "Installing collected packages: protobuf, ortools\n",
            "  Attempting uninstall: protobuf\n",
            "    Found existing installation: protobuf 3.20.3\n",
            "    Uninstalling protobuf-3.20.3:\n",
            "      Successfully uninstalled protobuf-3.20.3\n",
            "Successfully installed ortools-9.6.2534 protobuf-4.23.0\n"
          ]
        }
      ]
    },
    {
      "cell_type": "markdown",
      "source": [
        "# Test"
      ],
      "metadata": {
        "id": "ZHW83jAd-DSQ"
      }
    },
    {
      "cell_type": "code",
      "execution_count": null,
      "metadata": {
        "colab": {
          "base_uri": "https://localhost:8080/"
        },
        "id": "z5FXzFnq91Ip",
        "outputId": "a9a30f1e-a4e3-45ef-f5e1-6088e0a418eb"
      },
      "outputs": [
        {
          "output_type": "stream",
          "name": "stdout",
          "text": [
            "Objective: 6208\n",
            "Route for vehicle 0:\n",
            " 0 Load(0) ->  4 Load(4) ->  3 Load(6) ->  1 Load(7) ->  7 Load(15) ->  0 Load(15)\n",
            "Distance of the route: 1552m\n",
            "Load of the route: 15\n",
            "\n",
            "Route for vehicle 1:\n",
            " 0 Load(0) ->  14 Load(4) ->  16 Load(12) ->  10 Load(14) ->  9 Load(15) ->  0 Load(15)\n",
            "Distance of the route: 1552m\n",
            "Load of the route: 15\n",
            "\n",
            "Route for vehicle 2:\n",
            " 0 Load(0) ->  12 Load(2) ->  11 Load(3) ->  15 Load(11) ->  13 Load(15) ->  0 Load(15)\n",
            "Distance of the route: 1552m\n",
            "Load of the route: 15\n",
            "\n",
            "Route for vehicle 3:\n",
            " 0 Load(0) ->  8 Load(8) ->  2 Load(9) ->  6 Load(13) ->  5 Load(15) ->  0 Load(15)\n",
            "Distance of the route: 1552m\n",
            "Load of the route: 15\n",
            "\n",
            "Total distance of all routes: 6208m\n",
            "Total load of all routes: 60\n"
          ]
        }
      ],
      "source": [
        "\"\"\"Capacited Vehicles Routing Problem (CVRP).\"\"\"\n",
        "\n",
        "from ortools.constraint_solver import routing_enums_pb2\n",
        "from ortools.constraint_solver import pywrapcp\n",
        "\n",
        "\n",
        "def create_data_model():\n",
        "    \"\"\"Stores the data for the problem.\"\"\"\n",
        "    data = {}\n",
        "    data['distance_matrix'] = [\n",
        "        [\n",
        "            0, 548, 776, 696, 582, 274, 502, 194, 308, 194, 536, 502, 388, 354,\n",
        "            468, 776, 662\n",
        "        ],\n",
        "        [\n",
        "            548, 0, 684, 308, 194, 502, 730, 354, 696, 742, 1084, 594, 480, 674,\n",
        "            1016, 868, 1210\n",
        "        ],\n",
        "        [\n",
        "            776, 684, 0, 992, 878, 502, 274, 810, 468, 742, 400, 1278, 1164,\n",
        "            1130, 788, 1552, 754\n",
        "        ],\n",
        "        [\n",
        "            696, 308, 992, 0, 114, 650, 878, 502, 844, 890, 1232, 514, 628, 822,\n",
        "            1164, 560, 1358\n",
        "        ],\n",
        "        [\n",
        "            582, 194, 878, 114, 0, 536, 764, 388, 730, 776, 1118, 400, 514, 708,\n",
        "            1050, 674, 1244\n",
        "        ],\n",
        "        [\n",
        "            274, 502, 502, 650, 536, 0, 228, 308, 194, 240, 582, 776, 662, 628,\n",
        "            514, 1050, 708\n",
        "        ],\n",
        "        [\n",
        "            502, 730, 274, 878, 764, 228, 0, 536, 194, 468, 354, 1004, 890, 856,\n",
        "            514, 1278, 480\n",
        "        ],\n",
        "        [\n",
        "            194, 354, 810, 502, 388, 308, 536, 0, 342, 388, 730, 468, 354, 320,\n",
        "            662, 742, 856\n",
        "        ],\n",
        "        [\n",
        "            308, 696, 468, 844, 730, 194, 194, 342, 0, 274, 388, 810, 696, 662,\n",
        "            320, 1084, 514\n",
        "        ],\n",
        "        [\n",
        "            194, 742, 742, 890, 776, 240, 468, 388, 274, 0, 342, 536, 422, 388,\n",
        "            274, 810, 468\n",
        "        ],\n",
        "        [\n",
        "            536, 1084, 400, 1232, 1118, 582, 354, 730, 388, 342, 0, 878, 764,\n",
        "            730, 388, 1152, 354\n",
        "        ],\n",
        "        [\n",
        "            502, 594, 1278, 514, 400, 776, 1004, 468, 810, 536, 878, 0, 114,\n",
        "            308, 650, 274, 844\n",
        "        ],\n",
        "        [\n",
        "            388, 480, 1164, 628, 514, 662, 890, 354, 696, 422, 764, 114, 0, 194,\n",
        "            536, 388, 730\n",
        "        ],\n",
        "        [\n",
        "            354, 674, 1130, 822, 708, 628, 856, 320, 662, 388, 730, 308, 194, 0,\n",
        "            342, 422, 536\n",
        "        ],\n",
        "        [\n",
        "            468, 1016, 788, 1164, 1050, 514, 514, 662, 320, 274, 388, 650, 536,\n",
        "            342, 0, 764, 194\n",
        "        ],\n",
        "        [\n",
        "            776, 868, 1552, 560, 674, 1050, 1278, 742, 1084, 810, 1152, 274,\n",
        "            388, 422, 764, 0, 798\n",
        "        ],\n",
        "        [\n",
        "            662, 1210, 754, 1358, 1244, 708, 480, 856, 514, 468, 354, 844, 730,\n",
        "            536, 194, 798, 0\n",
        "        ],\n",
        "    ]\n",
        "    data['demands'] = [0, 1, 1, 2, 4, 2, 4, 8, 8, 1, 2, 1, 2, 4, 4, 8, 8]\n",
        "    data['vehicle_capacities'] = [15, 15, 15, 15]\n",
        "    data['num_vehicles'] = 4\n",
        "    data['depot'] = 0\n",
        "    return data\n",
        "\n",
        "\n",
        "def print_solution(data, manager, routing, solution):\n",
        "    \"\"\"Prints solution on console.\"\"\"\n",
        "    print(f'Objective: {solution.ObjectiveValue()}')\n",
        "    total_distance = 0\n",
        "    total_load = 0\n",
        "    for vehicle_id in range(data['num_vehicles']):\n",
        "        index = routing.Start(vehicle_id)\n",
        "        plan_output = 'Route for vehicle {}:\\n'.format(vehicle_id)\n",
        "        route_distance = 0\n",
        "        route_load = 0\n",
        "        while not routing.IsEnd(index):\n",
        "            node_index = manager.IndexToNode(index)\n",
        "            route_load += data['demands'][node_index]\n",
        "            plan_output += ' {0} Load({1}) -> '.format(node_index, route_load)\n",
        "            previous_index = index\n",
        "            index = solution.Value(routing.NextVar(index))\n",
        "            route_distance += routing.GetArcCostForVehicle(\n",
        "                previous_index, index, vehicle_id)\n",
        "        plan_output += ' {0} Load({1})\\n'.format(manager.IndexToNode(index),\n",
        "                                                 route_load)\n",
        "        plan_output += 'Distance of the route: {}m\\n'.format(route_distance)\n",
        "        plan_output += 'Load of the route: {}\\n'.format(route_load)\n",
        "        print(plan_output)\n",
        "        total_distance += route_distance\n",
        "        total_load += route_load\n",
        "    print('Total distance of all routes: {}m'.format(total_distance))\n",
        "    print('Total load of all routes: {}'.format(total_load))\n",
        "\n",
        "\n",
        "def main():\n",
        "    \"\"\"Solve the CVRP problem.\"\"\"\n",
        "    # Instantiate the data problem.\n",
        "    data = create_data_model()\n",
        "\n",
        "    # Create the routing index manager.\n",
        "    manager = pywrapcp.RoutingIndexManager(len(data['distance_matrix']),\n",
        "                                           data['num_vehicles'], data['depot'])\n",
        "\n",
        "    # Create Routing Model.\n",
        "    routing = pywrapcp.RoutingModel(manager)\n",
        "\n",
        "\n",
        "    # Create and register a transit callback.\n",
        "    def distance_callback(from_index, to_index):\n",
        "        \"\"\"Returns the distance between the two nodes.\"\"\"\n",
        "        # Convert from routing variable Index to distance matrix NodeIndex.\n",
        "        from_node = manager.IndexToNode(from_index)\n",
        "        to_node = manager.IndexToNode(to_index)\n",
        "        return data['distance_matrix'][from_node][to_node]\n",
        "\n",
        "    transit_callback_index = routing.RegisterTransitCallback(distance_callback)\n",
        "\n",
        "    # Define cost of each arc.\n",
        "    routing.SetArcCostEvaluatorOfAllVehicles(transit_callback_index)\n",
        "\n",
        "\n",
        "    # Add Capacity constraint.\n",
        "    def demand_callback(from_index):\n",
        "        \"\"\"Returns the demand of the node.\"\"\"\n",
        "        # Convert from routing variable Index to demands NodeIndex.\n",
        "        from_node = manager.IndexToNode(from_index)\n",
        "        return data['demands'][from_node]\n",
        "\n",
        "    demand_callback_index = routing.RegisterUnaryTransitCallback(\n",
        "        demand_callback)\n",
        "    routing.AddDimensionWithVehicleCapacity(\n",
        "        demand_callback_index,\n",
        "        0,  # null capacity slack\n",
        "        data['vehicle_capacities'],  # vehicle maximum capacities\n",
        "        True,  # start cumul to zero\n",
        "        'Capacity')\n",
        "\n",
        "    # Setting first solution heuristic.\n",
        "    search_parameters = pywrapcp.DefaultRoutingSearchParameters()\n",
        "    search_parameters.first_solution_strategy = (\n",
        "        routing_enums_pb2.FirstSolutionStrategy.PATH_CHEAPEST_ARC)\n",
        "    search_parameters.local_search_metaheuristic = (\n",
        "        routing_enums_pb2.LocalSearchMetaheuristic.GUIDED_LOCAL_SEARCH)\n",
        "    search_parameters.time_limit.FromSeconds(1)\n",
        "\n",
        "    # Solve the problem.\n",
        "    solution = routing.SolveWithParameters(search_parameters)\n",
        "\n",
        "    # Print solution on console.\n",
        "    if solution:\n",
        "        print_solution(data, manager, routing, solution)\n",
        "\n",
        "\n",
        "if __name__ == '__main__':\n",
        "    main()"
      ]
    },
    {
      "cell_type": "markdown",
      "source": [
        "# OR-Tools\n"
      ],
      "metadata": {
        "id": "VtR1Fdbg-GYQ"
      }
    },
    {
      "cell_type": "code",
      "source": [
        "import xml.etree.ElementTree as ET\n",
        "import pandas as pd\n",
        "import time"
      ],
      "metadata": {
        "id": "1zI6uT_4-ot3"
      },
      "execution_count": null,
      "outputs": []
    },
    {
      "cell_type": "code",
      "source": [
        "# Load the XML file\n",
        "tree = ET.parse('CMT06.xml')\n",
        "root = tree.getroot()"
      ],
      "metadata": {
        "id": "Wuz_atm3-knX"
      },
      "execution_count": null,
      "outputs": []
    },
    {
      "cell_type": "code",
      "source": [
        "# Extract the node and edge data from the XML file\n",
        "node_list = []\n",
        "demand_list = []\n",
        "for node in root.findall(\"./network/nodes/\"):\n",
        "    node_id = int(node.attrib['id'])\n",
        "    node_type = int(node.attrib['type'])\n",
        "    node_x = float(node.find('cx').text)\n",
        "    node_y = float(node.find('cy').text)\n",
        "    node_list.append([node_id, node_type, node_x, node_y])\n",
        "for demand in root.findall(\"./requests/\"):\n",
        "    node_id = int(demand.attrib['node'])\n",
        "    node_demand = float(demand.find('quantity').text)\n",
        "    demand_list.append([node_id, node_demand])"
      ],
      "metadata": {
        "id": "h2gR6jqt-nK_"
      },
      "execution_count": null,
      "outputs": []
    },
    {
      "cell_type": "code",
      "source": [
        "# Convert the node_list and edge_list into dataframes\n",
        "node_df = pd.DataFrame(node_list, columns=[\"id\", \"type\", \"x\", \"y\"])\n",
        "demand_df = pd.DataFrame(demand_list, columns=[\"id\", \"demand\"])"
      ],
      "metadata": {
        "id": "ltf0YcO7-nID"
      },
      "execution_count": null,
      "outputs": []
    },
    {
      "cell_type": "code",
      "source": [
        "from scipy.spatial import distance_matrix"
      ],
      "metadata": {
        "id": "9rRbDxNG-nE_"
      },
      "execution_count": null,
      "outputs": []
    },
    {
      "cell_type": "code",
      "source": [
        "# Extract the x and y coordinates as a numpy array\n",
        "coords = node_df[['x', 'y']].to_numpy()\n",
        "\n",
        "# Calculate the distance matrix using the Euclidean distance metric\n",
        "dist_matrix = distance_matrix(coords, coords)"
      ],
      "metadata": {
        "id": "BykmC6jX-m9f"
      },
      "execution_count": null,
      "outputs": []
    },
    {
      "cell_type": "code",
      "source": [
        "demand_df['demand'].sum()"
      ],
      "metadata": {
        "colab": {
          "base_uri": "https://localhost:8080/"
        },
        "id": "dyluaZJo-1MH",
        "outputId": "ae8921f4-349a-4827-d99e-1b20042a6d80"
      },
      "execution_count": null,
      "outputs": [
        {
          "output_type": "execute_result",
          "data": {
            "text/plain": [
              "777.0"
            ]
          },
          "metadata": {},
          "execution_count": 11
        }
      ]
    },
    {
      "cell_type": "code",
      "source": [
        "demand = list(demand_df['demand'])"
      ],
      "metadata": {
        "id": "ETgMrOzI-4Yi"
      },
      "execution_count": null,
      "outputs": []
    },
    {
      "cell_type": "code",
      "source": [
        "demand.append(0)"
      ],
      "metadata": {
        "id": "S6v0OE_e-4ba"
      },
      "execution_count": null,
      "outputs": []
    },
    {
      "cell_type": "code",
      "source": [
        "dist_matrix*1000"
      ],
      "metadata": {
        "colab": {
          "base_uri": "https://localhost:8080/"
        },
        "id": "XvCwizwtAuKn",
        "outputId": "6854c5e4-ae96-46aa-a819-a9745e14c70c"
      },
      "execution_count": null,
      "outputs": [
        {
          "output_type": "execute_result",
          "data": {
            "text/plain": [
              "array([[    0.        , 12369.31687685, 19209.3727123 , ...,\n",
              "        26400.75756489, 24207.43687382, 13892.44398945],\n",
              "       [12369.31687685,     0.        , 15297.05854078, ...,\n",
              "        21023.79604163, 13892.44398945, 21023.79604163],\n",
              "       [19209.3727123 , 15297.05854078,     0.        , ...,\n",
              "        36221.54055255, 27294.68812791, 32557.6411922 ],\n",
              "       ...,\n",
              "       [26400.75756489, 21023.79604163, 36221.54055255, ...,\n",
              "            0.        , 12041.59457879, 21633.30765278],\n",
              "       [24207.43687382, 13892.44398945, 27294.68812791, ...,\n",
              "        12041.59457879,     0.        , 26172.5046566 ],\n",
              "       [13892.44398945, 21023.79604163, 32557.6411922 , ...,\n",
              "        21633.30765278, 26172.5046566 ,     0.        ]])"
            ]
          },
          "metadata": {},
          "execution_count": 14
        }
      ]
    },
    {
      "cell_type": "code",
      "source": [
        "temp_matrix = dist_matrix * 1000\n",
        "new_dist_matrix = temp_matrix.astype(int)"
      ],
      "metadata": {
        "id": "pjXXazoK_w_V"
      },
      "execution_count": null,
      "outputs": []
    },
    {
      "cell_type": "code",
      "source": [
        "from ortools.constraint_solver import routing_enums_pb2\n",
        "from ortools.constraint_solver import pywrapcp\n",
        "\n",
        "def create_data_model():\n",
        "    \"\"\"Stores the data for the problem.\"\"\"\n",
        "    data = {}\n",
        "    data['distance_matrix'] = new_dist_matrix\n",
        "    data['demands'] = [int(x) for x in demand]\n",
        "    data['vehicle_capacities'] = [160, 160, 160, 160, 160]\n",
        "    data['num_vehicles'] = 5\n",
        "    data['depot'] = 50\n",
        "    return data\n",
        "\n",
        "\n",
        "def print_solution(data, manager, routing, solution):\n",
        "    \"\"\"Prints solution on console.\"\"\"\n",
        "    print(f'Objective: {solution.ObjectiveValue() / 1000}')\n",
        "    total_distance = 0\n",
        "    total_load = 0\n",
        "    routes = []\n",
        "    for vehicle_id in range(data['num_vehicles']):\n",
        "        index = routing.Start(vehicle_id)\n",
        "        plan_output = 'Route for vehicle {}:\\n'.format(vehicle_id)\n",
        "        route_distance = 0\n",
        "        route_load = 0\n",
        "        current_routes = []\n",
        "        while not routing.IsEnd(index):\n",
        "            node_index = manager.IndexToNode(index)\n",
        "            route_load += data['demands'][node_index]\n",
        "            current_routes.append(node_index)\n",
        "            plan_output += ' {0} Load({1}) -> '.format(node_index, route_load)\n",
        "            previous_index = index\n",
        "            index = solution.Value(routing.NextVar(index))\n",
        "            route_distance += routing.GetArcCostForVehicle(previous_index, index, vehicle_id)\n",
        "        plan_output += ' {0} Load({1})\\n'.format(manager.IndexToNode(index), route_load)\n",
        "        current_routes.append(data['depot'])\n",
        "        routes.append(current_routes)\n",
        "        plan_output += 'Distance of the route: {}m\\n'.format(route_distance/1000)\n",
        "        plan_output += 'Load of the route: {}\\n'.format(route_load)\n",
        "        print(plan_output)\n",
        "        total_distance += route_distance\n",
        "        total_load += route_load\n",
        "    print('Total distance of all routes: {}m'.format(total_distance/1000))\n",
        "    print('Total load of all routes: {}'.format(total_load))\n",
        "    print(routes)\n",
        "\n",
        "\n",
        "def main():\n",
        "    \"\"\"Solve the CVRP problem.\"\"\"\n",
        "    # Instantiate the data problem.\n",
        "    data = create_data_model()\n",
        "\n",
        "    # Create the routing index manager.\n",
        "    manager = pywrapcp.RoutingIndexManager(len(data['distance_matrix']),\n",
        "                                           data['num_vehicles'], data['depot'])\n",
        "\n",
        "    # Create Routing Model.\n",
        "    routing = pywrapcp.RoutingModel(manager)\n",
        "\n",
        "\n",
        "    # Create and register a transit callback.\n",
        "    def distance_callback(from_index, to_index):\n",
        "        \"\"\"Returns the distance between the two nodes.\"\"\"\n",
        "        # Convert from routing variable Index to distance matrix NodeIndex.\n",
        "        from_node = manager.IndexToNode(from_index)\n",
        "        to_node = manager.IndexToNode(to_index)\n",
        "        return data['distance_matrix'][from_node][to_node]\n",
        "\n",
        "    transit_callback_index = routing.RegisterTransitCallback(distance_callback)\n",
        "\n",
        "    # Define cost of each arc.\n",
        "    routing.SetArcCostEvaluatorOfAllVehicles(transit_callback_index)\n",
        "\n",
        "\n",
        "    # Add Capacity constraint.\n",
        "    def demand_callback(from_index):\n",
        "        \"\"\"Returns the demand of the node.\"\"\"\n",
        "        # Convert from routing variable Index to demands NodeIndex.\n",
        "        from_node = manager.IndexToNode(from_index)\n",
        "        return data['demands'][from_node]\n",
        "\n",
        "    demand_callback_index = routing.RegisterUnaryTransitCallback(\n",
        "        demand_callback)\n",
        "    routing.AddDimensionWithVehicleCapacity(\n",
        "        demand_callback_index,\n",
        "        0,  # null capacity slack\n",
        "        data['vehicle_capacities'],  # vehicle maximum capacities\n",
        "        True,  # start cumul to zero\n",
        "        'Capacity')\n",
        "\n",
        "    # Setting first solution heuristic.\n",
        "    search_parameters = pywrapcp.DefaultRoutingSearchParameters()\n",
        "    search_parameters.first_solution_strategy = (\n",
        "        routing_enums_pb2.FirstSolutionStrategy.PATH_CHEAPEST_ARC)\n",
        "    search_parameters.local_search_metaheuristic = (\n",
        "        routing_enums_pb2.LocalSearchMetaheuristic.TABU_SEARCH)\n",
        "    search_parameters.time_limit.FromSeconds(5)\n",
        "\n",
        "    # Solve the problem.\n",
        "    start_time = time.time()\n",
        "    solution = routing.SolveWithParameters(search_parameters)\n",
        "    print(\"--- %s seconds ---\" % (time.time() - start_time))\n",
        "    # Print solution on console.\n",
        "    # Print the solution.\n",
        "\n",
        "\n",
        "    if solution:\n",
        "        print_solution(data, manager, routing, solution)\n",
        "\n",
        "if __name__ == '__main__':\n",
        "    main()"
      ],
      "metadata": {
        "id": "mvZ8tqeY-IyX",
        "colab": {
          "base_uri": "https://localhost:8080/"
        },
        "outputId": "be22eb6f-e435-49e9-9848-13bef7fd2fb5"
      },
      "execution_count": null,
      "outputs": [
        {
          "output_type": "stream",
          "name": "stdout",
          "text": [
            "--- 5.001806259155273 seconds ---\n",
            "Objective: 595.054\n",
            "Route for vehicle 0:\n",
            " 50 Load(0) ->  26 Load(15) ->  30 Load(26) ->  25 Load(33) ->  42 Load(44) ->  23 Load(54) ->  12 Load(77) ->  40 Load(104) ->  39 Load(111) ->  18 Load(120) ->  41 Load(133) ->  43 Load(149) ->  36 Load(158) ->  50 Load(158)\n",
            "Distance of the route: 178.454m\n",
            "Load of the route: 158\n",
            "\n",
            "Route for vehicle 1:\n",
            " 50 Load(0) ->  16 Load(3) ->  14 Load(13) ->  44 Load(23) ->  32 Load(46) ->  38 Load(60) ->  9 Load(65) ->  29 Load(84) ->  33 Load(110) ->  15 Load(125) ->  10 Load(144) ->  31 Load(156) ->  50 Load(156)\n",
            "Distance of the route: 120.67m\n",
            "Load of the route: 156\n",
            "\n",
            "Route for vehicle 2:\n",
            " 50 Load(0) ->  0 Load(7) ->  21 Load(15) ->  2 Load(31) ->  34 Load(48) ->  35 Load(54) ->  27 Load(68) ->  7 Load(91) ->  47 Load(108) ->  6 Load(127) ->  22 Load(143) ->  5 Load(158) ->  50 Load(158)\n",
            "Distance of the route: 131.594m\n",
            "Load of the route: 158\n",
            "\n",
            "Route for vehicle 3:\n",
            " 50 Load(0) ->  1 Load(30) ->  19 Load(58) ->  28 Load(64) ->  20 Load(72) ->  49 Load(82) ->  8 Load(93) ->  48 Load(111) ->  37 Load(126) ->  4 Load(147) ->  45 Load(152) ->  50 Load(152)\n",
            "Distance of the route: 99.156m\n",
            "Load of the route: 152\n",
            "\n",
            "Route for vehicle 4:\n",
            " 50 Load(0) ->  11 Load(29) ->  46 Load(54) ->  3 Load(63) ->  17 Load(104) ->  24 Load(132) ->  13 Load(153) ->  50 Load(153)\n",
            "Distance of the route: 65.18m\n",
            "Load of the route: 153\n",
            "\n",
            "Total distance of all routes: 595.054m\n",
            "Total load of all routes: 777\n",
            "[[50, 26, 30, 25, 42, 23, 12, 40, 39, 18, 41, 43, 36, 50], [50, 16, 14, 44, 32, 38, 9, 29, 33, 15, 10, 31, 50], [50, 0, 21, 2, 34, 35, 27, 7, 47, 6, 22, 5, 50], [50, 1, 19, 28, 20, 49, 8, 48, 37, 4, 45, 50], [50, 11, 46, 3, 17, 24, 13, 50]]\n"
          ]
        }
      ]
    },
    {
      "cell_type": "code",
      "source": [],
      "metadata": {
        "id": "7U3avqA5_Cwi"
      },
      "execution_count": null,
      "outputs": []
    },
    {
      "cell_type": "markdown",
      "source": [
        "#OR-Tools Servicetime\n"
      ],
      "metadata": {
        "id": "U2SxzJx-WyhY"
      }
    },
    {
      "cell_type": "code",
      "source": [
        "import xml.etree.ElementTree as ET\n",
        "import pandas as pd\n",
        "import time\n",
        "from ortools.constraint_solver import routing_enums_pb2\n",
        "from ortools.constraint_solver import pywrapcp"
      ],
      "metadata": {
        "id": "BbHsvr0Tayq1"
      },
      "execution_count": null,
      "outputs": []
    },
    {
      "cell_type": "code",
      "source": [
        "# Load the XML file\n",
        "tree = ET.parse('CMT06.xml')\n",
        "root = tree.getroot()"
      ],
      "metadata": {
        "id": "g1sgUzqxXE1k"
      },
      "execution_count": null,
      "outputs": []
    },
    {
      "cell_type": "code",
      "source": [
        "# Extract the node and edge data from the XML file\n",
        "node_list = []\n",
        "demand_list = []\n",
        "for node in root.findall(\"./network/nodes/\"):\n",
        "    node_id = int(node.attrib['id'])\n",
        "    node_type = int(node.attrib['type'])\n",
        "    node_x = float(node.find('cx').text)\n",
        "    node_y = float(node.find('cy').text)\n",
        "    node_list.append([node_id, node_type, node_x, node_y])\n",
        "for demand in root.findall(\"./requests/\"):\n",
        "    node_id = int(demand.attrib['node'])\n",
        "    node_demand = float(demand.find('quantity').text)\n",
        "    demand_list.append([node_id, node_demand])"
      ],
      "metadata": {
        "id": "033GtOGNXE1k"
      },
      "execution_count": null,
      "outputs": []
    },
    {
      "cell_type": "code",
      "source": [
        "# Convert the node_list and edge_list into dataframes\n",
        "node_df = pd.DataFrame(node_list, columns=[\"id\", \"type\", \"x\", \"y\"])\n",
        "demand_df = pd.DataFrame(demand_list, columns=[\"id\", \"demand\"])"
      ],
      "metadata": {
        "id": "v5Iqr0FhXE1l"
      },
      "execution_count": null,
      "outputs": []
    },
    {
      "cell_type": "code",
      "source": [
        "from scipy.spatial import distance_matrix"
      ],
      "metadata": {
        "id": "zguIWDt-XE1l"
      },
      "execution_count": null,
      "outputs": []
    },
    {
      "cell_type": "code",
      "source": [
        "# Extract the x and y coordinates as a numpy array\n",
        "coords = node_df[['x', 'y']].to_numpy()\n",
        "\n",
        "# Calculate the distance matrix using the Euclidean distance metric\n",
        "dist_matrix = distance_matrix(coords, coords)"
      ],
      "metadata": {
        "id": "soruoeBhXE1l"
      },
      "execution_count": null,
      "outputs": []
    },
    {
      "cell_type": "code",
      "source": [
        "demand_df['demand'].sum()"
      ],
      "metadata": {
        "colab": {
          "base_uri": "https://localhost:8080/"
        },
        "outputId": "abd4ebd5-ecfc-4896-fd13-fa9215356628",
        "id": "OHnIiuK8XE1l"
      },
      "execution_count": null,
      "outputs": [
        {
          "output_type": "execute_result",
          "data": {
            "text/plain": [
              "777.0"
            ]
          },
          "metadata": {},
          "execution_count": 13
        }
      ]
    },
    {
      "cell_type": "code",
      "source": [
        "demand = list(demand_df['demand'])"
      ],
      "metadata": {
        "id": "0GMMuQmOXE1l"
      },
      "execution_count": null,
      "outputs": []
    },
    {
      "cell_type": "code",
      "source": [
        "demand.append(0)"
      ],
      "metadata": {
        "id": "_iFkq_AsXE1m"
      },
      "execution_count": null,
      "outputs": []
    },
    {
      "cell_type": "code",
      "source": [
        "dist_matrix*1000"
      ],
      "metadata": {
        "colab": {
          "base_uri": "https://localhost:8080/"
        },
        "outputId": "62600062-702b-4be5-cd95-a265a546ef39",
        "id": "JnfSl8IFXE1m"
      },
      "execution_count": null,
      "outputs": [
        {
          "output_type": "execute_result",
          "data": {
            "text/plain": [
              "array([[    0.        , 12369.31687685, 19209.3727123 , ...,\n",
              "        26400.75756489, 24207.43687382, 13892.44398945],\n",
              "       [12369.31687685,     0.        , 15297.05854078, ...,\n",
              "        21023.79604163, 13892.44398945, 21023.79604163],\n",
              "       [19209.3727123 , 15297.05854078,     0.        , ...,\n",
              "        36221.54055255, 27294.68812791, 32557.6411922 ],\n",
              "       ...,\n",
              "       [26400.75756489, 21023.79604163, 36221.54055255, ...,\n",
              "            0.        , 12041.59457879, 21633.30765278],\n",
              "       [24207.43687382, 13892.44398945, 27294.68812791, ...,\n",
              "        12041.59457879,     0.        , 26172.5046566 ],\n",
              "       [13892.44398945, 21023.79604163, 32557.6411922 , ...,\n",
              "        21633.30765278, 26172.5046566 ,     0.        ]])"
            ]
          },
          "metadata": {},
          "execution_count": 16
        }
      ]
    },
    {
      "cell_type": "code",
      "source": [
        "temp_matrix = dist_matrix * 1000\n",
        "new_dist_matrix = temp_matrix.astype(int)"
      ],
      "metadata": {
        "id": "gV_3iPBWXE1m"
      },
      "execution_count": null,
      "outputs": []
    },
    {
      "cell_type": "code",
      "source": [
        "new_dist_matrix"
      ],
      "metadata": {
        "colab": {
          "base_uri": "https://localhost:8080/"
        },
        "id": "j0gHHcDf0gN2",
        "outputId": "749ce6c1-be10-4b65-cf94-0858da9da9ff"
      },
      "execution_count": null,
      "outputs": [
        {
          "output_type": "execute_result",
          "data": {
            "text/plain": [
              "array([[    0, 12369, 19209, ..., 26400, 24207, 13892],\n",
              "       [12369,     0, 15297, ..., 21023, 13892, 21023],\n",
              "       [19209, 15297,     0, ..., 36221, 27294, 32557],\n",
              "       ...,\n",
              "       [26400, 21023, 36221, ...,     0, 12041, 21633],\n",
              "       [24207, 13892, 27294, ..., 12041,     0, 26172],\n",
              "       [13892, 21023, 32557, ..., 21633, 26172,     0]])"
            ]
          },
          "metadata": {},
          "execution_count": 18
        }
      ]
    },
    {
      "cell_type": "code",
      "source": [
        "demands = [int(x) for x in demand]"
      ],
      "metadata": {
        "id": "DMJj_Upyvhc8"
      },
      "execution_count": null,
      "outputs": []
    },
    {
      "cell_type": "code",
      "source": [
        "service_time = [10000] * len(demand)"
      ],
      "metadata": {
        "id": "dAbMewZcRaKW"
      },
      "execution_count": null,
      "outputs": []
    },
    {
      "cell_type": "code",
      "source": [
        "len(service_time)"
      ],
      "metadata": {
        "colab": {
          "base_uri": "https://localhost:8080/"
        },
        "id": "04GIS0ncRxxt",
        "outputId": "eaa05a5e-cc99-484a-909b-ac0ebfa5c8e9"
      },
      "execution_count": null,
      "outputs": [
        {
          "output_type": "execute_result",
          "data": {
            "text/plain": [
              "51"
            ]
          },
          "metadata": {},
          "execution_count": 21
        }
      ]
    },
    {
      "cell_type": "code",
      "source": [
        "from ortools.constraint_solver import routing_enums_pb2\n",
        "from ortools.constraint_solver import pywrapcp\n",
        "import time\n",
        "import random\n",
        "random.seed(10)\n",
        "\n",
        "LIMIT = 200 * 1000\n",
        "SERVICE_TIME = 10 * 1000\n",
        "\n",
        "def create_data_model():\n",
        "    \"\"\"Stores the data for the problem.\"\"\"\n",
        "    data = {}\n",
        "    data['distance_matrix'] = new_dist_matrix\n",
        "    data['demands'] = demands\n",
        "    data['vehicle_capacities'] = [160, 160, 160, 160, 160, 160, 160, 160, 160, 160]\n",
        "    #data['limit'] = [LIMIT, LIMIT, LIMIT, LIMIT, LIMIT, LIMIT, LIMIT, LIMIT, LIMIT, LIMIT]\n",
        "    data['num_vehicles'] = 10\n",
        "    data['depot'] = 50\n",
        "    return data\n",
        "\n",
        "\n",
        "def print_solution(data, manager, routing, solution):\n",
        "    \"\"\"Prints solution on console.\"\"\"\n",
        "    print(f'Objective: {solution.ObjectiveValue() / 1000}')\n",
        "    total_distance = 0\n",
        "    total_load = 0\n",
        "    routes = []\n",
        "    for vehicle_id in range(data['num_vehicles']):\n",
        "        index = routing.Start(vehicle_id)\n",
        "        plan_output = 'Route for vehicle {}:\\n'.format(vehicle_id)\n",
        "        route_distance = 0\n",
        "        route_load = 0\n",
        "        route_time = 0\n",
        "        count = 0\n",
        "        current_routes = []\n",
        "        while not routing.IsEnd(index):\n",
        "            node_index = manager.IndexToNode(index)\n",
        "            route_load += data['demands'][node_index]\n",
        "            current_routes.append(node_index)\n",
        "\n",
        "            if count > 0:\n",
        "                temp = data['distance_matrix'][prev_index][node_index] + SERVICE_TIME\n",
        "                #print(data['distance_matrix'][prev_index][node_index])\n",
        "                route_time += temp\n",
        "\n",
        "            plan_output += ' {0} Load({1}) -> '.format(node_index, route_load)\n",
        "            previous_index = index\n",
        "            index = solution.Value(routing.NextVar(index))\n",
        "            route_distance += routing.GetArcCostForVehicle(previous_index, index, vehicle_id)\n",
        "            prev_index = node_index\n",
        "            count += 1\n",
        "\n",
        "        plan_output += ' {0} Load({1})\\n'.format(manager.IndexToNode(index), route_load)\n",
        "        current_routes.append(data['depot'])\n",
        "        routes.append(current_routes)\n",
        "        #print(current_routes)\n",
        "        plan_output += 'Distance of the route: {}m\\n'.format(route_distance/1000)\n",
        "        plan_output += 'Load of the route: {}\\n'.format(route_load)\n",
        "        plan_output += 'Time of the route: {}\\n'.format(route_time/1000)\n",
        "        print(plan_output)\n",
        "        total_distance += route_distance\n",
        "        total_load += route_load\n",
        "    print('Total distance of all routes: {}m'.format(total_distance/1000))\n",
        "    print('Total load of all routes: {}'.format(total_load))\n",
        "    print(routes)\n",
        "\n",
        "\n",
        "\n",
        "\n",
        "def main():\n",
        "\n",
        "    \"\"\"Solve the CVRP problem.\"\"\"\n",
        "    # Instantiate the data problem.\n",
        "    data = create_data_model()\n",
        "\n",
        "    # Create the routing index manager.\n",
        "    manager = pywrapcp.RoutingIndexManager(len(data['distance_matrix']),\n",
        "                                           data['num_vehicles'], data['depot'])\n",
        "\n",
        "    # Create Routing Model.\n",
        "    routing = pywrapcp.RoutingModel(manager)\n",
        "\n",
        "    # Create and register a transit callback.\n",
        "    def distance_callback(from_index, to_index):\n",
        "        \"\"\"Returns the distance between the two nodes.\"\"\"\n",
        "        # Convert from routing variable Index to distance matrix NodeIndex.\n",
        "        from_node = manager.IndexToNode(from_index)\n",
        "        to_node = manager.IndexToNode(to_index)\n",
        "        return data['distance_matrix'][from_node][to_node]\n",
        "\n",
        "    transit_callback_index = routing.RegisterTransitCallback(distance_callback)\n",
        "\n",
        "    # Define cost of each arc.\n",
        "    routing.SetArcCostEvaluatorOfAllVehicles(transit_callback_index)\n",
        "\n",
        "    # Add Capacity constraint.\n",
        "    def demand_callback(from_index):\n",
        "        \"\"\"Returns the demand of the node.\"\"\"\n",
        "        # Convert from routing variable Index to demands NodeIndex.\n",
        "        from_node = manager.IndexToNode(from_index)\n",
        "        return data['demands'][from_node]\n",
        "\n",
        "    demand_callback_index = routing.RegisterUnaryTransitCallback(demand_callback)\n",
        "    routing.AddDimensionWithVehicleCapacity(\n",
        "        demand_callback_index,\n",
        "        0,  # null capacity slack\n",
        "        data['vehicle_capacities'],  # vehicle maximum capacities\n",
        "        True,  # start cumul to zero\n",
        "        'Capacity')\n",
        "\n",
        "    # Add Check constraint.\n",
        "    def check_callback(from_index, to_index):\n",
        "        \"\"\"Returns the check value between the two nodes.\"\"\"\n",
        "        from_node = manager.IndexToNode(from_index)\n",
        "        to_node = manager.IndexToNode(to_index)\n",
        "        distance = data['distance_matrix'][from_node][to_node]\n",
        "        if to_node == data['depot']:\n",
        "            return distance\n",
        "        else:\n",
        "            return distance + SERVICE_TIME\n",
        "\n",
        "    check_callback_index = routing.RegisterTransitCallback(check_callback)\n",
        "\n",
        "    routing.AddDimension(\n",
        "        check_callback_index,\n",
        "        0,  # null slack\n",
        "        #data['limit'],  # maximum check value\n",
        "        LIMIT,\n",
        "        True,  # start cumul to zero\n",
        "        'Check')\n",
        "\n",
        "\n",
        "\n",
        "    # Setting first solution heuristic.\n",
        "    search_parameters = pywrapcp.DefaultRoutingSearchParameters()\n",
        "    search_parameters.first_solution_strategy = (\n",
        "        routing_enums_pb2.FirstSolutionStrategy.PATH_CHEAPEST_ARC)\n",
        "    search_parameters.local_search_metaheuristic = (\n",
        "        routing_enums_pb2.LocalSearchMetaheuristic.TABU_SEARCH) #GREEDY_DESCENT\n",
        "    search_parameters.time_limit.FromSeconds(60)\n",
        "\n",
        "    # Solve the problem.\n",
        "    start_time = time.time()\n",
        "    solution = routing.SolveWithParameters(search_parameters)\n",
        "    print(\"--- %s seconds ---\" % (time.time() - start_time))\n",
        "    # Print solution on console.\n",
        "    if solution:\n",
        "        print_solution(data, manager, routing, solution)\n",
        "\n",
        "\n",
        "if __name__ == '__main__':\n",
        "    main()\n",
        "\n"
      ],
      "metadata": {
        "colab": {
          "base_uri": "https://localhost:8080/"
        },
        "id": "kwmeyYUgTmFV",
        "outputId": "f63d3a9b-8012-4152-ddf2-e1dee3b165bc"
      },
      "execution_count": null,
      "outputs": [
        {
          "output_type": "stream",
          "name": "stdout",
          "text": [
            "--- 60.00017952919006 seconds ---\n",
            "Objective: 567.955\n",
            "Route for vehicle 0:\n",
            " 50 Load(0) ->  26 Load(15) ->  47 Load(32) ->  7 Load(55) ->  25 Load(62) ->  30 Load(73) ->  27 Load(87) ->  21 Load(95) ->  1 Load(125) ->  31 Load(137) ->  50 Load(137)\n",
            "Distance of the route: 91.485m\n",
            "Load of the route: 137\n",
            "Time of the route: 171.485\n",
            "\n",
            "Route for vehicle 1:\n",
            " 50 Load(0) ->  16 Load(3) ->  43 Load(19) ->  44 Load(29) ->  32 Load(52) ->  14 Load(62) ->  36 Load(71) ->  11 Load(100) ->  50 Load(100)\n",
            "Distance of the route: 80.084m\n",
            "Load of the route: 100\n",
            "Time of the route: 142.022\n",
            "\n",
            "Route for vehicle 2:\n",
            " 50 Load(0) ->  17 Load(41) ->  12 Load(64) ->  40 Load(91) ->  39 Load(98) ->  18 Load(107) ->  41 Load(120) ->  3 Load(129) ->  46 Load(154) ->  50 Load(154)\n",
            "Distance of the route: 103.15m\n",
            "Load of the route: 154\n",
            "Time of the route: 173.717\n",
            "\n",
            "Route for vehicle 3:\n",
            " 50 Load(0) ->  50 Load(0)\n",
            "Distance of the route: 0.0m\n",
            "Load of the route: 0\n",
            "Time of the route: 0.0\n",
            "\n",
            "Route for vehicle 4:\n",
            " 50 Load(0) ->  13 Load(21) ->  24 Load(49) ->  23 Load(59) ->  42 Load(70) ->  6 Load(89) ->  22 Load(105) ->  5 Load(120) ->  50 Load(120)\n",
            "Distance of the route: 91.621m\n",
            "Load of the route: 120\n",
            "Time of the route: 150.22\n",
            "\n",
            "Route for vehicle 5:\n",
            " 50 Load(0) ->  4 Load(21) ->  48 Load(39) ->  9 Load(44) ->  38 Load(58) ->  29 Load(77) ->  33 Load(103) ->  49 Load(113) ->  8 Load(124) ->  37 Load(139) ->  45 Load(144) ->  50 Load(144)\n",
            "Distance of the route: 93.928m\n",
            "Load of the route: 144\n",
            "Time of the route: 191.692\n",
            "\n",
            "Route for vehicle 6:\n",
            " 50 Load(0) ->  0 Load(7) ->  2 Load(23) ->  35 Load(29) ->  34 Load(46) ->  19 Load(74) ->  28 Load(80) ->  20 Load(88) ->  15 Load(103) ->  10 Load(122) ->  50 Load(122)\n",
            "Distance of the route: 107.687m\n",
            "Load of the route: 122\n",
            "Time of the route: 185.646\n",
            "\n",
            "Route for vehicle 7:\n",
            " 50 Load(0) ->  50 Load(0)\n",
            "Distance of the route: 0.0m\n",
            "Load of the route: 0\n",
            "Time of the route: 0.0\n",
            "\n",
            "Route for vehicle 8:\n",
            " 50 Load(0) ->  50 Load(0)\n",
            "Distance of the route: 0.0m\n",
            "Load of the route: 0\n",
            "Time of the route: 0.0\n",
            "\n",
            "Route for vehicle 9:\n",
            " 50 Load(0) ->  50 Load(0)\n",
            "Distance of the route: 0.0m\n",
            "Load of the route: 0\n",
            "Time of the route: 0.0\n",
            "\n",
            "Total distance of all routes: 567.955m\n",
            "Total load of all routes: 777\n",
            "[[50, 26, 47, 7, 25, 30, 27, 21, 1, 31, 50], [50, 16, 43, 44, 32, 14, 36, 11, 50], [50, 17, 12, 40, 39, 18, 41, 3, 46, 50], [50, 50], [50, 13, 24, 23, 42, 6, 22, 5, 50], [50, 4, 48, 9, 38, 29, 33, 49, 8, 37, 45, 50], [50, 0, 2, 35, 34, 19, 28, 20, 15, 10, 50], [50, 50], [50, 50], [50, 50]]\n"
          ]
        }
      ]
    },
    {
      "cell_type": "code",
      "source": [],
      "metadata": {
        "id": "OVjjZnqz0LXf"
      },
      "execution_count": null,
      "outputs": []
    }
  ]
}